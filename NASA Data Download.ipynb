{
 "cells": [
  {
   "cell_type": "markdown",
   "metadata": {},
   "source": [
    "## Using a hash to index thousands of files of NASA Land Surface Forcings Data & Using Get in a for loop with error handling\n",
    "\n",
    "As part of a larger research project, I downloaded 15 years worth of data from NASA's MERRA-2 dataset.  The subset of data I chose was \"inst1_2d_lfo_Nx (M2I1NXLFO): Land Surface Forcings.\"  These data contain measurements of land surface forcings measured at 1-hour increments from 1 January 2000 to 31 December 2015 for a rectangle of geographic space that covered California.  The data was mapped to the nearest 0.25 grid point.  After I registered and submitted my request, NASA provided a list of links I could use with a get request to download each file.  I saved this list as a .txt file.  This notebook shows how I used a hash to index the files as I downloaded each one."
   ]
  },
  {
   "cell_type": "code",
   "execution_count": 1,
   "metadata": {},
   "outputs": [],
   "source": [
    "import time\n",
    "import requests\n",
    "import numpy as np\n",
    "import pandas as pd"
   ]
  },
  {
   "cell_type": "markdown",
   "metadata": {},
   "source": [
    "Set up files for the data to go into"
   ]
  },
  {
   "cell_type": "code",
   "execution_count": 2,
   "metadata": {},
   "outputs": [],
   "source": [
    "file_number = list(filter((0).__ne__, range(5846))) #number should be 5846 for 5845 files\n",
    "filepath = 'D:/NASA data/'\n",
    "filelist = []\n",
    "\n",
    "for i in range(len(file_number)):\n",
    "    filename = filepath + str(i) + '.nc4'\n",
    "    filelist.append(filename)"
   ]
  },
  {
   "cell_type": "code",
   "execution_count": 3,
   "metadata": {},
   "outputs": [
    {
     "data": {
      "text/plain": [
       "5845"
      ]
     },
     "execution_count": 3,
     "metadata": {},
     "output_type": "execute_result"
    }
   ],
   "source": [
    "len(filelist)"
   ]
  },
  {
   "cell_type": "markdown",
   "metadata": {},
   "source": [
    "Create a dataframe of the URLs and filenames"
   ]
  },
  {
   "cell_type": "code",
   "execution_count": 4,
   "metadata": {},
   "outputs": [],
   "source": [
    "colname = ['URL']\n",
    "urls = pd.read_csv('D:/NASA data/url_list.txt', sep='\\n', header=None, names=colname)\n",
    "urls['filename'] = filelist"
   ]
  },
  {
   "cell_type": "code",
   "execution_count": 5,
   "metadata": {},
   "outputs": [
    {
     "data": {
      "text/html": [
       "<div>\n",
       "<style scoped>\n",
       "    .dataframe tbody tr th:only-of-type {\n",
       "        vertical-align: middle;\n",
       "    }\n",
       "\n",
       "    .dataframe tbody tr th {\n",
       "        vertical-align: top;\n",
       "    }\n",
       "\n",
       "    .dataframe thead th {\n",
       "        text-align: right;\n",
       "    }\n",
       "</style>\n",
       "<table border=\"1\" class=\"dataframe\">\n",
       "  <thead>\n",
       "    <tr style=\"text-align: right;\">\n",
       "      <th></th>\n",
       "      <th>URL</th>\n",
       "      <th>filename</th>\n",
       "    </tr>\n",
       "  </thead>\n",
       "  <tbody>\n",
       "    <tr>\n",
       "      <td>0</td>\n",
       "      <td>https://goldsmr4.gesdisc.eosdis.nasa.gov/data/...</td>\n",
       "      <td>D:/NASA data/0.nc4</td>\n",
       "    </tr>\n",
       "    <tr>\n",
       "      <td>1</td>\n",
       "      <td>https://goldsmr4.gesdisc.eosdis.nasa.gov/daac-...</td>\n",
       "      <td>D:/NASA data/1.nc4</td>\n",
       "    </tr>\n",
       "    <tr>\n",
       "      <td>2</td>\n",
       "      <td>https://goldsmr4.gesdisc.eosdis.nasa.gov/daac-...</td>\n",
       "      <td>D:/NASA data/2.nc4</td>\n",
       "    </tr>\n",
       "    <tr>\n",
       "      <td>3</td>\n",
       "      <td>https://goldsmr4.gesdisc.eosdis.nasa.gov/daac-...</td>\n",
       "      <td>D:/NASA data/3.nc4</td>\n",
       "    </tr>\n",
       "    <tr>\n",
       "      <td>4</td>\n",
       "      <td>https://goldsmr4.gesdisc.eosdis.nasa.gov/daac-...</td>\n",
       "      <td>D:/NASA data/4.nc4</td>\n",
       "    </tr>\n",
       "  </tbody>\n",
       "</table>\n",
       "</div>"
      ],
      "text/plain": [
       "                                                 URL            filename\n",
       "0  https://goldsmr4.gesdisc.eosdis.nasa.gov/data/...  D:/NASA data/0.nc4\n",
       "1  https://goldsmr4.gesdisc.eosdis.nasa.gov/daac-...  D:/NASA data/1.nc4\n",
       "2  https://goldsmr4.gesdisc.eosdis.nasa.gov/daac-...  D:/NASA data/2.nc4\n",
       "3  https://goldsmr4.gesdisc.eosdis.nasa.gov/daac-...  D:/NASA data/3.nc4\n",
       "4  https://goldsmr4.gesdisc.eosdis.nasa.gov/daac-...  D:/NASA data/4.nc4"
      ]
     },
     "execution_count": 5,
     "metadata": {},
     "output_type": "execute_result"
    }
   ],
   "source": [
    "urls.head()"
   ]
  },
  {
   "cell_type": "markdown",
   "metadata": {},
   "source": [
    "Iterate through dataframe, open url, and save data from it to filename"
   ]
  },
  {
   "cell_type": "code",
   "execution_count": null,
   "metadata": {},
   "outputs": [],
   "source": [
    "for index, row in urls.iterrows():\n",
    "    filename = row[1]\n",
    "    url = row[0]\n",
    "    try:\n",
    "        result = requests.get(url)\n",
    "        result.raise_for_status()\n",
    "        f = open(filename, 'wb')\n",
    "        f.write(result.content)\n",
    "        f.close()\n",
    "        print('Contents of URL written to ' + filename)\n",
    "        time.sleep(2)\n",
    "    except requests.exceptions.HTTPError as err:\n",
    "        print(err)"
   ]
  },
  {
   "cell_type": "markdown",
   "metadata": {},
   "source": [
    "The first file turned out to be a .pdf about the data.  The other 5844 files were data files in NetCDF format."
   ]
  }
 ],
 "metadata": {
  "kernelspec": {
   "display_name": "Python 3",
   "language": "python",
   "name": "python3"
  },
  "language_info": {
   "codemirror_mode": {
    "name": "ipython",
    "version": 3
   },
   "file_extension": ".py",
   "mimetype": "text/x-python",
   "name": "python",
   "nbconvert_exporter": "python",
   "pygments_lexer": "ipython3",
   "version": "3.7.4"
  }
 },
 "nbformat": 4,
 "nbformat_minor": 2
}
